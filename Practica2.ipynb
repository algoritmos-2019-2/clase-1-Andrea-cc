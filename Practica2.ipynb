{
 "cells": [
  {
   "cell_type": "markdown",
   "metadata": {},
   "source": [
    "# Práctica 2 Andrea Sofía Ceñal Cisneros"
   ]
  },
  {
   "cell_type": "markdown",
   "metadata": {},
   "source": [
    "## Preguntas"
   ]
  },
  {
   "cell_type": "markdown",
   "metadata": {},
   "source": [
    "### Funciones"
   ]
  },
  {
   "cell_type": "markdown",
   "metadata": {},
   "source": [
    "* ¿Por qué son ventajosas las funciones para tener en sus programas?\n",
    "```Porque son reutilizables y esto nos permite reducir el código, pues en caso de que queramos que se ejecute la tarea/operación que realiza la función, lo único que hay que hacer es llamar a la función en lugar de volver a escribir el código que va dentro de ella.```\n",
    "* ¿Cuándo se ejecuta el código en una función: cuando se define la función o cuando se llama a la función? ```cuando se llama a la función.``` \n",
    "* ¿Qué enunciado crea una función? ```el enunciado \"def\" declara una función seguido del nombre de la función y un ( ) dentro del cual se especifican los argumentos.```\n",
    "* ¿Cuál es la diferencia entre una función y una llamada de función? ```una función es un código con un conjunto de sentencias que se encarga de realizar una tarea determinada y tiene un nombre; esto se especifica en la definición de la función. Una llamada de función ejecuta la función que se ha llamado.``` \n",
    "* ¿Cuántos ámbitos globales hay en un programa de Python? ¿Cuántos ámbitos locales? ```Locales  habrá tanto como funciones y globales tantos como se quiera.```\n",
    "* ¿Qué sucede con las variables en un ámbito local cuando se devuelve la llamada a la función? ```una variable local sólo tiene reservado espacio de almacenamiento en memoria mientras se esté ejecutando la función en donde está definida. Las variables locales de la función desaparecen al término de la misma.```\n",
    "* ¿Qué es un valor de retorno? ¿Puede un valor de retorno ser parte de una expresión? ```es un valor que devuelve la función después de su llamado al programa o función de nivel superior, generalmente se almacena en una variable y si puede ser parte de una expresión.```\n",
    "* Si una función no tiene una declaración de retorno, ¿cuál es el valor de retorno de una llamada a esa función? ```toda función devuleve un valor, sin embargo si no tiene una declaració de retorno el valor de retorno está indefinido; es decir que la función está ejecutando la tarea pero no está especificando el resultado.```\n",
    "* ¿Cómo puede forzar una variable en una función para referirse a la variable global? ``ìndicándole a la variable que retorne la varible global.```\n",
    "* ¿Cuál es el tipo de datos de None? ```es un dato que no tiene ningún valor; su valor es \"nada\" o \"ninguna cosa\". Importante resultar que su valor no es cero.``` \n",
    "* ¿Qué hace la declaración import random? ```importa la libreria random para poder utilizarla y las funciones que contiene.```\n",
    "* Si tuviera una función llamada randint() en un módulo llamado random, ¿cómo lo llamaría después de importar random? ```Para usar una función del módulo random, como se dijo primero hay que importar random y después mandar llamar a la función de la siguiente manera \"random.randit()\".```"
   ]
  },
  {
   "cell_type": "markdown",
   "metadata": {},
   "source": [
    "### Listas y Tuplas"
   ]
  },
  {
   "cell_type": "markdown",
   "metadata": {},
   "source": [
    "* ¿Qué es ```[]```? ```dentro de corchetes de define el contenido de una lista.```\n",
    "* ¿Cómo asignaría el valor ```'hola'``` como el tercer valor en una lista almacenada? en una variable llamada ```spam```? (Supongamos que el ```spam``` contiene ```[2, 4, 6, 8, 10]```.) ```si se quiere cambiar el tercer valor en la lista por el valor \"hola\" se haría de la siguiente manera: spam[2] = 'hola' (entre corchetes se pone el índice del valor que queremos cambiar, la posición 3 tiene el índice 2). También se puede agregar un valor a la lista y se debe especificar la posición con el índice: spam.insert(2,\"hola\").```\n",
    "\n",
    "Para las siguientes tres preguntas, digamos que ```spam``` contiene la lista ```[2, 4, 6, 8, 10]```.\n",
    "* ¿Qué evalúa ```spam[int ('3' * 2) / 11]```? ```nos marca error debido a que el índice no da un entero sino un flotante y se necesita que sea un entero.\"\n",
    "* ¿Qué evalúa ```spam[-1]```? ```nos da el valor 10 ya que si se usan valores negativos para indicar el índice de una lista, se asignan de la siguiente manera: el -1 corresponde al último elemento de la lista y los valores anteriores tienen índice descendiente (-2,-3,...).```\n",
    "* ¿Qué evalúa el ```spam[: 2]```? ```el comando lista[inicio:límite] nos regresa los elementos de la lísta que tengan los índices especificados en \"inicio\" y \"límite\"; en este caso estamos indicando los índices desde el inicio hasta el índice 2 pero sin tomar en cuenta ese valor, con lo que lo que nos regresa es la sublista [2,4].```\n",
    "\n",
    "Para las siguientes tres preguntas, digamos que bacon contiene la lista ```[3.14, 'cat', 11, 'cat', True]```.\n",
    "\n",
    "* ¿Qué evalúa ```bacon.index('cat')```? ```nos indica el índice en la lista donde se encuetra el valor \"cat\"; en este caso el valor se encuentra repetido pero el compilador devulve el de la primera aparición con lo que al correr esta función obtendriamos el índice 1.```\n",
    "* ¿Qué evalúa ```bacon.append(99)```? ```añade el valor 99 al final de la lista, ya que no se está indicando el índice de posición que se desea.```\n",
    "* ¿Qué hace ```bacon.remove('cat')```? ```elimina el valor \"cat\" de la lista; de igual manera que con bacon.index('cat'), se elimina el primer \"cat\" que encuentre.```\n",
    "* ¿Cuáles son los operadores para la concatenación de listas y la replicación de listas? ```operador suma.```\n",
    "* ¿Cuál es la diferencia entre los métodos de lista ```append()``` e ```insert()```? ```append() agrega un valor a la lista al final de ella, mientras que insert() agrega un valor pero en el índice que se ha indicado.```\n",
    "* ¿Cuál es la diferencia entre listas y tuplas? ```las listas presentan una serie de funciones que nos permiten modificarlas y manipularlas; es decir que las listas son dinámicas mientras que las tuplas con inmutables.```"
   ]
  },
  {
   "cell_type": "code",
   "execution_count": 2,
   "metadata": {},
   "outputs": [],
   "source": [
    "spam = [2,4,6,8,10]\n"
   ]
  },
  {
   "cell_type": "code",
   "execution_count": 3,
   "metadata": {},
   "outputs": [
    {
     "ename": "TypeError",
     "evalue": "list indices must be integers or slices, not float",
     "output_type": "error",
     "traceback": [
      "\u001b[0;31m---------------------------------------------------------------------------\u001b[0m",
      "\u001b[0;31mTypeError\u001b[0m                                 Traceback (most recent call last)",
      "\u001b[0;32m<ipython-input-3-cce381eab18d>\u001b[0m in \u001b[0;36m<module>\u001b[0;34m\u001b[0m\n\u001b[0;32m----> 1\u001b[0;31m \u001b[0mspam\u001b[0m\u001b[0;34m[\u001b[0m\u001b[0mint\u001b[0m\u001b[0;34m(\u001b[0m\u001b[0;34m'3'\u001b[0m\u001b[0;34m*\u001b[0m \u001b[0;36m2\u001b[0m\u001b[0;34m)\u001b[0m \u001b[0;34m/\u001b[0m \u001b[0;36m11\u001b[0m\u001b[0;34m]\u001b[0m\u001b[0;34m\u001b[0m\u001b[0;34m\u001b[0m\u001b[0m\n\u001b[0m",
      "\u001b[0;31mTypeError\u001b[0m: list indices must be integers or slices, not float"
     ]
    }
   ],
   "source": [
    "spam[int('3'* 2) / 11]"
   ]
  },
  {
   "cell_type": "code",
   "execution_count": 4,
   "metadata": {},
   "outputs": [
    {
     "data": {
      "text/plain": [
       "10"
      ]
     },
     "execution_count": 4,
     "metadata": {},
     "output_type": "execute_result"
    }
   ],
   "source": [
    "spam[-1]"
   ]
  },
  {
   "cell_type": "code",
   "execution_count": 5,
   "metadata": {},
   "outputs": [
    {
     "data": {
      "text/plain": [
       "[2, 4]"
      ]
     },
     "execution_count": 5,
     "metadata": {},
     "output_type": "execute_result"
    }
   ],
   "source": [
    "spam[: 2]"
   ]
  },
  {
   "cell_type": "markdown",
   "metadata": {},
   "source": [
    "### Proyecto práctico"
   ]
  },
  {
   "cell_type": "markdown",
   "metadata": {},
   "source": [
    "Códifique las siguiente funciones:\n",
    "\n",
    "* ```testPrime()``` que verifique si un número es primo.\n",
    "* ```prime()``` que genere los primos menores o iguales que $n \\in \\mathbb{I}\\mathbb{N}$.\n",
    "* ```twinPrime()``` que regrese una tupla con los primos gemelos menores o iguales que $n \\in \\mathbb{I}\\mathbb{N}$.\n",
    "* ```theoremArihtmetic()``` que regrese una lista con la descomposión en potencias de primos para cualquier $n \\in \\mathbb{I}\\mathbb{N}$.\n",
    "* ```mcm()``` que regrese el mínimo común multiplo de dos enteros.\n",
    "* ```MCD()``` que regrese el máximo común divisor de dos enteros."
   ]
  },
  {
   "cell_type": "code",
   "execution_count": 2,
   "metadata": {},
   "outputs": [],
   "source": [
    "def testPrime(num):\n",
    "    if num < 1:\n",
    "        return False\n",
    "    elif num == 2:\n",
    "        return True\n",
    "    else:\n",
    "        for i in range(2,num):\n",
    "            if num % i == 0:\n",
    "                return False\n",
    "            return True\n",
    "    "
   ]
  },
  {
   "cell_type": "code",
   "execution_count": 7,
   "metadata": {},
   "outputs": [
    {
     "data": {
      "text/plain": [
       "True"
      ]
     },
     "execution_count": 7,
     "metadata": {},
     "output_type": "execute_result"
    }
   ],
   "source": [
    "testPrime(2)\n"
   ]
  },
  {
   "cell_type": "code",
   "execution_count": 24,
   "metadata": {},
   "outputs": [],
   "source": [
    "def prime(n):\n",
    "    out = []\n",
    "    for num in range(2, n+1):\n",
    "        prime = True\n",
    "        for i in range(2, num):\n",
    "            if (num % i == 0):\n",
    "                prime = False\n",
    "        if prime:\n",
    "            out.append(num)\n",
    "    return out"
   ]
  },
  {
   "cell_type": "code",
   "execution_count": 26,
   "metadata": {},
   "outputs": [
    {
     "data": {
      "text/plain": [
       "[2, 3, 5, 7, 11, 13, 17, 19, 23]"
      ]
     },
     "execution_count": 26,
     "metadata": {},
     "output_type": "execute_result"
    }
   ],
   "source": [
    "prime(23)\n"
   ]
  },
  {
   "cell_type": "code",
   "execution_count": 51,
   "metadata": {},
   "outputs": [],
   "source": [
    "def twinPrime(n):\n",
    "    out = ()\n",
    "    for i in range(2, n+1):\n",
    "        j = i + 2\n",
    "        if(testPrime(i) and testPrime(j)):\n",
    "            print(\"{:d} y {:d}\".format(i, j))\n",
    "    return out\n",
    "    "
   ]
  },
  {
   "cell_type": "code",
   "execution_count": 52,
   "metadata": {},
   "outputs": [
    {
     "name": "stdout",
     "output_type": "stream",
     "text": [
      "3 y 5\n",
      "5 y 7\n",
      "7 y 9\n",
      "9 y 11\n",
      "11 y 13\n",
      "13 y 15\n",
      "15 y 17\n",
      "17 y 19\n",
      "19 y 21\n",
      "21 y 23\n",
      "23 y 25\n",
      "25 y 27\n",
      "27 y 29\n",
      "29 y 31\n",
      "31 y 33\n",
      "33 y 35\n",
      "35 y 37\n",
      "37 y 39\n",
      "39 y 41\n",
      "41 y 43\n",
      "43 y 45\n",
      "45 y 47\n",
      "47 y 49\n",
      "49 y 51\n",
      "51 y 53\n",
      "53 y 55\n",
      "55 y 57\n",
      "57 y 59\n",
      "59 y 61\n",
      "61 y 63\n",
      "63 y 65\n",
      "65 y 67\n",
      "67 y 69\n",
      "69 y 71\n",
      "71 y 73\n",
      "73 y 75\n",
      "75 y 77\n",
      "77 y 79\n",
      "79 y 81\n",
      "81 y 83\n",
      "83 y 85\n",
      "85 y 87\n",
      "87 y 89\n",
      "89 y 91\n",
      "91 y 93\n",
      "93 y 95\n",
      "95 y 97\n",
      "97 y 99\n",
      "99 y 101\n"
     ]
    },
    {
     "data": {
      "text/plain": [
       "()"
      ]
     },
     "execution_count": 52,
     "metadata": {},
     "output_type": "execute_result"
    }
   ],
   "source": [
    "twinPrime(100)"
   ]
  },
  {
   "cell_type": "code",
   "execution_count": 97,
   "metadata": {},
   "outputs": [
    {
     "ename": "IndentationError",
     "evalue": "expected an indented block (<ipython-input-97-257e8cac82ec>, line 6)",
     "output_type": "error",
     "traceback": [
      "\u001b[0;36m  File \u001b[0;32m\"<ipython-input-97-257e8cac82ec>\"\u001b[0;36m, line \u001b[0;32m6\u001b[0m\n\u001b[0;31m    return (\"{:d} y {:d}\".format(i, j),\"{:d} y {:d}\".format(i, j))\u001b[0m\n\u001b[0m         ^\u001b[0m\n\u001b[0;31mIndentationError\u001b[0m\u001b[0;31m:\u001b[0m expected an indented block\n"
     ]
    }
   ],
   "source": [
    "def twinPrime(n):\n",
    "    out = ()\n",
    "    for i in range(2, n+1):\n",
    "        j = i + 2\n",
    "        if(testPrime(i) and testPrime(j)):\n",
    "        return (\"{:d} y {:d}\".format(i, j),\"{:d} y {:d}\".format(i, j))"
   ]
  },
  {
   "cell_type": "code",
   "execution_count": 96,
   "metadata": {},
   "outputs": [
    {
     "data": {
      "text/plain": [
       "('3 y 5', '3 y 5')"
      ]
     },
     "execution_count": 96,
     "metadata": {},
     "output_type": "execute_result"
    }
   ],
   "source": [
    "twinPrime(50)"
   ]
  },
  {
   "cell_type": "code",
   "execution_count": 38,
   "metadata": {},
   "outputs": [
    {
     "name": "stdout",
     "output_type": "stream",
     "text": [
      "(4, 9)\n"
     ]
    }
   ],
   "source": [
    "def square(x,y):\n",
    "    return x*x, y*y\n",
    "\n",
    "t = square(2,3)\n",
    "print(t)"
   ]
  },
  {
   "cell_type": "code",
   "execution_count": 103,
   "metadata": {},
   "outputs": [],
   "source": [
    "def theoremArithmetic(n):\n",
    "    primefactors = []\n",
    "    d = 2\n",
    "    while d*d <= n:\n",
    "        while (n % d) == 0:\n",
    "            primefactors.append(d)\n",
    "            n //= d\n",
    "        d += 1\n",
    "    if n > 1:\n",
    "        primefactors.append(n)\n",
    "    return primefactors"
   ]
  },
  {
   "cell_type": "code",
   "execution_count": 104,
   "metadata": {},
   "outputs": [
    {
     "data": {
      "text/plain": [
       "[2, 2, 5, 5, 5]"
      ]
     },
     "execution_count": 104,
     "metadata": {},
     "output_type": "execute_result"
    }
   ],
   "source": [
    "primes(500)"
   ]
  },
  {
   "cell_type": "code",
   "execution_count": 109,
   "metadata": {},
   "outputs": [],
   "source": [
    "def mcm(x, y):\n",
    "    if x > y:\n",
    "        mayor = x\n",
    "    else:\n",
    "        mayor = y\n",
    "\n",
    "    while(True):\n",
    "        if((mayor % x == 0) and (mayor % y == 0)):\n",
    "            mcm = mayor\n",
    "            break\n",
    "        mayor += 1\n",
    "\n",
    "    return mcm"
   ]
  },
  {
   "cell_type": "code",
   "execution_count": 110,
   "metadata": {},
   "outputs": [
    {
     "data": {
      "text/plain": [
       "456"
      ]
     },
     "execution_count": 110,
     "metadata": {},
     "output_type": "execute_result"
    }
   ],
   "source": [
    "mcm(24,38)"
   ]
  },
  {
   "cell_type": "code",
   "execution_count": 112,
   "metadata": {},
   "outputs": [],
   "source": [
    "def MCD(x, y):\n",
    "    while y != 0:\n",
    "        (x, y) = (y, x % y)\n",
    "    return x\n"
   ]
  },
  {
   "cell_type": "code",
   "execution_count": 115,
   "metadata": {},
   "outputs": [
    {
     "data": {
      "text/plain": [
       "6"
      ]
     },
     "execution_count": 115,
     "metadata": {},
     "output_type": "execute_result"
    }
   ],
   "source": [
    "MCD(6,0)"
   ]
  },
  {
   "cell_type": "code",
   "execution_count": null,
   "metadata": {},
   "outputs": [],
   "source": []
  }
 ],
 "metadata": {
  "kernelspec": {
   "display_name": "Python 3",
   "language": "python",
   "name": "python3"
  },
  "language_info": {
   "codemirror_mode": {
    "name": "ipython",
    "version": 3
   },
   "file_extension": ".py",
   "mimetype": "text/x-python",
   "name": "python",
   "nbconvert_exporter": "python",
   "pygments_lexer": "ipython3",
   "version": "3.7.1"
  }
 },
 "nbformat": 4,
 "nbformat_minor": 2
}
