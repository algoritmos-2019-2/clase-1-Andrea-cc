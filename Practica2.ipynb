{
 "cells": [
  {
   "cell_type": "markdown",
   "metadata": {},
   "source": [
    "# Práctica 2 Andrea Sofía Ceñal Cisneros"
   ]
  },
  {
   "cell_type": "markdown",
   "metadata": {},
   "source": [
    "## Preguntas"
   ]
  },
  {
   "cell_type": "markdown",
   "metadata": {},
   "source": [
    "### Funciones"
   ]
  },
  {
   "cell_type": "markdown",
   "metadata": {},
   "source": [
    "* ¿Por qué son ventajosas las funciones para tener en sus programas?\n",
    "```Porque son reutilizables y esto nos permite reducir el código, pues en caso de que queramos que se ejecute la tarea/operación que realiza la función, lo único que hay que hacer es llamar a la función en lugar de volver a escribir el código que va dentro de ella.```\n",
    "* ¿Cuándo se ejecuta el código en una función: cuando se define la función o cuando se llama a la función? ```cuando se llama a la función.``` \n",
    "* ¿Qué enunciado crea una función? ```el enunciado \"def\" declara una función seguido del nombre de la función y un ( ) dentro del cual se especifican los argumentos.```\n",
    "* ¿Cuál es la diferencia entre una función y una llamada de función? ```una función es un código con un conjunto de sentencias que se encarga de realizar una tarea determinada y tiene un nombre; esto se especifica en la definición de la función. Una llamada de función ejecuta la función que se ha llamado.``` \n",
    "* ¿Cuántos ámbitos globales hay en un programa de Python? ¿Cuántos ámbitos locales? ```Locales  habrá tanto como funciones y globales tantos como se quiera.```\n",
    "* ¿Qué sucede con las variables en un ámbito local cuando se devuelve la llamada a la función? ```una variable local sólo tiene reservado espacio de almacenamiento en memoria mientras se esté ejecutando la función en donde está definida. Las variables locales de la función desaparecen al término de la misma.```\n",
    "* ¿Qué es un valor de retorno? ¿Puede un valor de retorno ser parte de una expresión? ```es un valor que devuelve la función después de su llamado al programa o función de nivel superior, generalmente se almacena en una variable y si puede ser parte de una expresión.```\n",
    "* Si una función no tiene una declaración de retorno, ¿cuál es el valor de retorno de una llamada a esa función? ```toda función devuleve un valor, sin embargo si no tiene una declaració de retorno el valor de retorno está indefinido; es decir que la función está ejecutando la tarea pero no está especificando el resultado.```\n",
    "* ¿Cómo puede forzar una variable en una función para referirse a la variable global? ``ìndicándole a la variable que retorne la varible global.```\n",
    "* ¿Cuál es el tipo de datos de None? ```es un dato que no tiene ningún valor; su valor es \"nada\" o \"ninguna cosa\". Importante resultar que su valor no es cero.``` \n",
    "* ¿Qué hace la declaración import random? ```importa la libreria random para poder utilizarla y las funciones que contiene.```\n",
    "* Si tuviera una función llamada randint() en un módulo llamado random, ¿cómo lo llamaría después de importar random? ```Para usar una función del módulo random, como se dijo primero hay que importar random y después mandar llamar a la función de la siguiente manera \"random.randit()\".```"
   ]
  },
  {
   "cell_type": "markdown",
   "metadata": {},
   "source": [
    "### Listas y Tuplas"
   ]
  },
  {
   "cell_type": "markdown",
   "metadata": {},
   "source": [
    "* ¿Qué es ```[]```? ```dentro de corchetes de define el contenido de una lista.```\n",
    "* ¿Cómo asignaría el valor ```'hola'``` como el tercer valor en una lista almacenada? en una variable llamada ```spam```? (Supongamos que el ```spam``` contiene ```[2, 4, 6, 8, 10]```.) ```si se quiere cambiar el tercer valor en la lista por el valor \"hola\" se haría de la siguiente manera: spam[2] = 'hola' (entre corchetes se pone el índice del valor que queremos cambiar, la posición 3 tiene el índice 2). También se puede agregar un valor a la lista y se debe especificar la posición con el índice: spam.insert(2,\"hola\").```\n",
    "\n",
    "Para las siguientes tres preguntas, digamos que ```spam``` contiene la lista ```[2, 4, 6, 8, 10]```.\n",
    "* ¿Qué evalúa ```spam[int ('3' * 2) / 11]```? ```nos marca error debido a que el índice no da un entero sino un flotante y se necesita que sea un entero.\"\n",
    "* ¿Qué evalúa ```spam[-1]```? ```nos da el valor 10 ya que si se usan valores negativos para indicar el índice de una lista, se asignan de la siguiente manera: el -1 corresponde al último elemento de la lista y los valores anteriores tienen índice descendiente (-2,-3,...).```\n",
    "* ¿Qué evalúa el ```spam[: 2]```? ```el comando lista[inicio:límite] nos regresa los elementos de la lísta que tengan los índices especificados en \"inicio\" y \"límite\"; en este caso estamos indicando los índices desde el inicio hasta el índice 2 pero sin tomar en cuenta ese valor, con lo que lo que nos regresa es la sublista [2,4].```\n",
    "\n",
    "Para las siguientes tres preguntas, digamos que bacon contiene la lista ```[3.14, 'cat', 11, 'cat', True]```.\n",
    "\n",
    "* ¿Qué evalúa ```bacon.index('cat')```? ```nos indica el índice en la lista donde se encuetra el valor \"cat\"; en este caso el valor se encuentra repetido pero el compilador devulve el de la primera aparición con lo que al correr esta función obtendriamos el índice 1.```\n",
    "* ¿Qué evalúa ```bacon.append(99)```? ```añade el valor 99 al final de la lista, ya que no se está indicando el índice de posición que se desea.```\n",
    "* ¿Qué hace ```bacon.remove('cat')```? ```elimina el valor \"cat\" de la lista; de igual manera que con bacon.index('cat'), se elimina el primer \"cat\" que encuentre.```\n",
    "* ¿Cuáles son los operadores para la concatenación de listas y la replicación de listas? ```operador suma.```\n",
    "* ¿Cuál es la diferencia entre los métodos de lista ```append()``` e ```insert()```? ```append() agrega un valor a la lista al final de ella, mientras que insert() agrega un valor pero en el índice que se ha indicado.```\n",
    "* ¿Cuál es la diferencia entre listas y tuplas? ```las listas presentan una serie de funciones que nos permiten modificarlas y manipularlas; es decir que las listas son dinámicas mientras que las tuplas con inmutables.```"
   ]
  },
  {
   "cell_type": "code",
   "execution_count": 2,
   "metadata": {},
   "outputs": [],
   "source": [
    "spam = [2,4,6,8,10]\n"
   ]
  },
  {
   "cell_type": "code",
   "execution_count": 10,
   "metadata": {},
   "outputs": [
    {
     "ename": "TypeError",
     "evalue": "list indices must be integers or slices, not float",
     "output_type": "error",
     "traceback": [
      "\u001b[0;31m---------------------------------------------------------------------------\u001b[0m",
      "\u001b[0;31mTypeError\u001b[0m                                 Traceback (most recent call last)",
      "\u001b[0;32m<ipython-input-10-cce381eab18d>\u001b[0m in \u001b[0;36m<module>\u001b[0;34m\u001b[0m\n\u001b[0;32m----> 1\u001b[0;31m \u001b[0mspam\u001b[0m\u001b[0;34m[\u001b[0m\u001b[0mint\u001b[0m\u001b[0;34m(\u001b[0m\u001b[0;34m'3'\u001b[0m\u001b[0;34m*\u001b[0m \u001b[0;36m2\u001b[0m\u001b[0;34m)\u001b[0m \u001b[0;34m/\u001b[0m \u001b[0;36m11\u001b[0m\u001b[0;34m]\u001b[0m\u001b[0;34m\u001b[0m\u001b[0;34m\u001b[0m\u001b[0m\n\u001b[0m",
      "\u001b[0;31mTypeError\u001b[0m: list indices must be integers or slices, not float"
     ]
    }
   ],
   "source": [
    "spam[int('3'* 2) / 11]"
   ]
  },
  {
   "cell_type": "code",
   "execution_count": 4,
   "metadata": {},
   "outputs": [
    {
     "data": {
      "text/plain": [
       "10"
      ]
     },
     "execution_count": 4,
     "metadata": {},
     "output_type": "execute_result"
    }
   ],
   "source": [
    "spam[-1]"
   ]
  },
  {
   "cell_type": "code",
   "execution_count": 5,
   "metadata": {},
   "outputs": [
    {
     "data": {
      "text/plain": [
       "[2, 4]"
      ]
     },
     "execution_count": 5,
     "metadata": {},
     "output_type": "execute_result"
    }
   ],
   "source": [
    "spam[: 2]"
   ]
  },
  {
   "cell_type": "markdown",
   "metadata": {},
   "source": [
    "### Proyecto práctico"
   ]
  },
  {
   "cell_type": "markdown",
   "metadata": {},
   "source": [
    "Códifique las siguiente funciones:\n",
    "\n",
    "* ```testPrime()``` que verifique si un número es primo.\n",
    "* ```prime()``` que genere los primos menores o iguales que $n \\in \\mathbb{I}\\mathbb{N}$.\n",
    "* ```twinPrime()``` que regrese una tupla con los primos gemelos menores o iguales que $n \\in \\mathbb{I}\\mathbb{N}$.\n",
    "* ```theoremArihtmetic()``` que regrese una lista con la descomposión en potencias de primos para cualquier $n \\in \\mathbb{I}\\mathbb{N}$.\n",
    "* ```mcm()``` que regrese el mínimo común multiplo de dos enteros.\n",
    "* ```MCD()``` que regrese el máximo común divisor de dos enteros."
   ]
  },
  {
   "cell_type": "code",
   "execution_count": 3,
   "metadata": {},
   "outputs": [
    {
     "name": "stdout",
     "output_type": "stream",
     "text": [
      "Este programa verifica si un número es primo.\n",
      "Introduce un número por favor: 4\n",
      "No es primo\n"
     ]
    }
   ],
   "source": [
    "print(\"Este programa verifica si un número es primo.\")\n",
    "#Lo primero que hace el programa es pedir que se ingrese un número, que será el valor del argumento de la función\n",
    "num = int ( input(\"Introduce un número por favor: \")) \n",
    "def testPrime(num): #Ahora defino mi función cuyo argumento es un número num \n",
    "    if num <= 1: #El valor de num debe ser entero y mayor que 1\n",
    "        return print(\"Introduce un número mayor que 1\") #En caso de lo contrario, el programa pide que se ingrese un numero mayor que 1\n",
    "    elif num == 2: #Después se evalua el caso cuando num es igual a 2 y el programa indica que es primo\n",
    "        return print(\"Si es primo\")\n",
    "    else: \n",
    "        for i in range(2,num): #Para los demás casos utilizamos un bucle for que comienza a contar desde 2 y termina en num -1; esto es para no considerar el caso en que num % num\n",
    "            if num % i == 0: #Esta operación indica que al dividir num entre i, que se encuentra en el rango del for, el residuo es 0. Si esto pasa para cualquier i en ese rango, significa que num no es primo, pues es divisible por otro número además de 1 y sí mismo\n",
    "                return print(\"No es primo\") #El programa indica que no es primo\n",
    "            return print(\"Si es primo\") #De lo contrario, el programa indica que num es primo\n",
    "testPrime(num) #Se hace la llamada a la función    "
   ]
  },
  {
   "cell_type": "code",
   "execution_count": 9,
   "metadata": {},
   "outputs": [
    {
     "name": "stdout",
     "output_type": "stream",
     "text": [
      "Este programa imprime los números primos menores o iguales a un número n\n",
      "Introduce un número entero 'n' cualquiera: 23\n"
     ]
    },
    {
     "data": {
      "text/plain": [
       "[2, 3, 5, 7, 11, 13, 17, 19, 23]"
      ]
     },
     "execution_count": 9,
     "metadata": {},
     "output_type": "execute_result"
    }
   ],
   "source": [
    "print(\"Este programa imprime los números primos menores o iguales a un natural cualquiera\")\n",
    "#Lo primero que hace el programa es pedir que se ingrese un número, que será el valor del argumento de la función\n",
    "n = int ( input(\"Introduce un número natural: \"))\n",
    "def prime(n): #Defino mi función \n",
    "    out = [] #Esto es para idicar que mi salida va a ser una lista. En primera instancia está vacía\n",
    "    for num in range(2, n+1): #El primer bucle for corre de 2 a n\n",
    "        prime = True #Deifino una variable local prime cuyo valor es verdadero si el numero n es primo. Esto se evalúa con un segundo for\n",
    "        for i in range(2, num): #El segundo bulce for corre de 2 hasta num, que es la variable del primer for\n",
    "            if (num % i == 0):#Esto es para verificar si el número es primo\n",
    "                prime = False #Si la condición se cumple, la variable prime marca False, lo que indica que el numero no es primo\n",
    "        if prime: #Esto es: si prime es verdadero, entonces...\n",
    "            out.append(num) #el comando append insertará el número al final de la lista out definifa al incio. Con cada iteración, si se evalúa que número es primo, se inserta en la lista\n",
    "    return out #Esto indica que mi valor de retorno será la lista con los números primos\n",
    "\n",
    "prime(n)"
   ]
  },
  {
   "cell_type": "code",
   "execution_count": 41,
   "metadata": {},
   "outputs": [
    {
     "name": "stdout",
     "output_type": "stream",
     "text": [
      "Este programa regresa los primos gemelos menores o iguales a un natural cualquiera\n",
      "Introduce un número natural: 20\n",
      "( 3 , 5 )\n",
      "( 5 , 7 )\n",
      "( 7 , 9 )\n",
      "( 9 , 11 )\n",
      "( 11 , 13 )\n",
      "( 13 , 15 )\n",
      "( 15 , 17 )\n",
      "( 17 , 19 )\n",
      "( 19 , 21 )\n"
     ]
    }
   ],
   "source": [
    "print(\"Este programa regresa los primos gemelos menores o iguales a un natural cualquiera\")\n",
    "#Lo primero que hace el programa es pedir que se ingrese un número, que será el valor del argumento de la función\n",
    "n = int ( input(\"Introduce un número natural: \"))\n",
    "def tprime(num): #primero defino una función que me indique si un número es primo \n",
    "    if num <= 1:\n",
    "        return False\n",
    "    elif num == 2:\n",
    "        return True\n",
    "    else:\n",
    "        for i in range(2,num):\n",
    "            if num % i == 0:\n",
    "                return False\n",
    "            return True\n",
    "        \n",
    "def twinPrime(n): #Ahora mi función que encuentra los primos gemelos\n",
    "    #tupla = ()\n",
    "    for i in range(2, n+1): \n",
    "        num1 = i #Defino 2 variables locales; la primera, i, corre en un for desde 2 hasta n, que es el input\n",
    "        num2 = i + 2 #La segunda variable es la pimera + 2. Con esto evaluamos la condición para que dos numeros primos sean gemelos: num2-num1=2\n",
    "        if(tprime(num1) and tprime(num2)): #Ahora evaluamos las variables en la función tprime y esto dentro de un if. De esta manera, si al evaluar en tprime obtenemos valores Verdadero, etonces los números son primos gemelos y se imprime lo siguiente\n",
    "            print(\"(\", num1, \",\", num2, \")\")\n",
    "            #tupla('num1 y num2')\n",
    "    return #tupla \n",
    "\n",
    "twinPrime(n) "
   ]
  },
  {
   "cell_type": "code",
   "execution_count": 45,
   "metadata": {},
   "outputs": [
    {
     "name": "stdout",
     "output_type": "stream",
     "text": [
      "Este programa devuelve una lista con la descomposición de potencias de primos de algún número natural\n",
      "Introduce un número un numero natural cualquiera: 500\n"
     ]
    },
    {
     "data": {
      "text/plain": [
       "[2, 2, 5, 5, 5]"
      ]
     },
     "execution_count": 45,
     "metadata": {},
     "output_type": "execute_result"
    }
   ],
   "source": [
    "print(\"Este programa devuelve una lista con la descomposición de potencias de primos de algún número natural\")\n",
    "#Lo primero que hace el programa es pedir que se ingrese un número, que será el valor del argumento de la función\n",
    "n = int ( input(\"Introduce un número un numero natural cualquiera: \"))\n",
    "def theoremArithmetic(n): #Se define la función\n",
    "    factoresprimos = [] #Esto idica que el valor de retorno será una lista\n",
    "    a = 2 #Defino una variable que comienza a contar en 2, el primer factor primo\n",
    "    while a*a <= n: #Mientras se cumpla que a al cuadrado es menor o igual que n-input, entonces el programa continua con otro bucl while\n",
    "        while (n % a) == 0: #Mientras se cumpla que el residuo de la division n/a sea igual a cero, entonces a es factor\n",
    "            factoresprimos.append(a) #como a es factor, se agrega a la lista factoresprimos \n",
    "            n //= a #Ahora n corresponde al valor obtenido al hacer la division n//a, que nos da siempre un valor entero\n",
    "        a += 1 #a incrementa su cuenta en 1 a = a +1\n",
    "        #El bucle continua hasta que la condición inicial no se cumple\n",
    "    if n > 1: \n",
    "        factoresprimos.append(n)\n",
    "    return factoresprimos #El valor de retorno es la lista con los factores \n",
    "\n",
    "theoremArithmetic(n)"
   ]
  },
  {
   "cell_type": "code",
   "execution_count": 29,
   "metadata": {},
   "outputs": [
    {
     "name": "stdout",
     "output_type": "stream",
     "text": [
      "Este programa devuelve el mínimo común múltiplo de dos números\n",
      "Introduce el primer número: 8\n",
      "Introduce el segundo número: 4\n"
     ]
    },
    {
     "data": {
      "text/plain": [
       "8"
      ]
     },
     "execution_count": 29,
     "metadata": {},
     "output_type": "execute_result"
    }
   ],
   "source": [
    "print(\"Este programa devuelve el mínimo común múltiplo de dos números\")\n",
    "#Lo primero que hace el programa es pedir que se ingresen dos números, que serán los valores de los argumentos de la función\n",
    "x = int ( input(\"Introduce el primer número: \"))\n",
    "y = int ( input(\"Introduce el segundo número: \"))\n",
    "\n",
    "def mcm(x, y): #Defino la función\n",
    "    if x > y: #Se evalúa cuál de las entradas es mayor y esta se almacena en una variable llamada mayor\n",
    "        mayor = x\n",
    "    else:\n",
    "        mayor = y\n",
    "\n",
    "    while(True): #Mientras las condiciones sena verdaderas, se cumplirá lo siguiente...\n",
    "        if((mayor % x == 0) and (mayor % y == 0)): #Si el residuo de el número mayor entre sí mismo y entre el número menor es exactamente igual que cero entonces el mcm será el número mayor\n",
    "            mcm = mayor\n",
    "            break \n",
    "        mayor += 1 \n",
    "\n",
    "    return mcm\n",
    "\n",
    "mcm(x,y)"
   ]
  },
  {
   "cell_type": "code",
   "execution_count": 32,
   "metadata": {},
   "outputs": [
    {
     "name": "stdout",
     "output_type": "stream",
     "text": [
      "Este programa devuelve el máximo común divisor de dos números\n",
      "Introduce el primer número: 5\n",
      "Introduce el segundo número: 25\n"
     ]
    },
    {
     "data": {
      "text/plain": [
       "5"
      ]
     },
     "execution_count": 32,
     "metadata": {},
     "output_type": "execute_result"
    }
   ],
   "source": [
    "print(\"Este programa devuelve el máximo común divisor de dos números\")\n",
    "#Lo primero que hace el programa es pedir que se ingresen dos números, que serán los valores de los argumentos de la función\n",
    "x = int ( input(\"Introduce el primer número: \"))\n",
    "y = int ( input(\"Introduce el segundo número: \"))\n",
    "\n",
    "def MCD(x, y): #Defino la función\n",
    "    while y != 0: #El bucle while corre mientras y sea diferente de cero\n",
    "        (x, y) = (y, x % y) #se pide que se cumpla esta condición\n",
    "    return x\n",
    "\n",
    "MCD(x,y)"
   ]
  }
 ],
 "metadata": {
  "kernelspec": {
   "display_name": "Python 3",
   "language": "python",
   "name": "python3"
  },
  "language_info": {
   "codemirror_mode": {
    "name": "ipython",
    "version": 3
   },
   "file_extension": ".py",
   "mimetype": "text/x-python",
   "name": "python",
   "nbconvert_exporter": "python",
   "pygments_lexer": "ipython3",
   "version": "3.7.1"
  }
 },
 "nbformat": 4,
 "nbformat_minor": 2
}
